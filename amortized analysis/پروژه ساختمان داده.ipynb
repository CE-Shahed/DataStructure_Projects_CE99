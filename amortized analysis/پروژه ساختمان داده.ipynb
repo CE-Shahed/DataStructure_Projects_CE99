{
 "cells": [
  {
   "cell_type": "markdown",
   "id": "6b4b1ea0",
   "metadata": {},
   "source": [
    "<h1 style=\"font-size:3rem;color:brown; direction:rtl;text-align:center \">تحلیل سر شکن </h1>"
   ]
  },
  {
   "cell_type": "markdown",
   "id": "0a8b609c",
   "metadata": {},
   "source": [
    "\n",
    "<p style=\"  text-align:justify right;direction:rtl\"> در این بحث از تحلیل داده ها، ما به دنبال این هستیم تحلیل  زمان مصرف شده رو در الگوریتم های متفاوت برررسی کنیم </p>\n",
    "<p style=\"  text-align:justify right;direction:rtl\"> به صورت کلی، در این روش ما میانگین   عملیات ها رو حساب میکنیم نشان میدهیم هزینه کلی نسبت به هزینه هر یک از عملیات ها کمتر است </p>\n",
    "<p style=\"  text-align:justify right;direction:rtl\"> عملیات ها در این مبحث الزاما شبیه هم نیستند و مقدار زمان مصرف شده هر کدام فرق دارد </p>\n"
   ]
  },
  {
   "cell_type": "markdown",
   "id": "504c5582",
   "metadata": {},
   "source": [
    "<h2 style=\"color:limegreen;font-size:2rem;direction:rtl \"> ما در این تحلیل از الگوریتم ها سه روش کلی را بررسی میکنیم</h2>\n",
    "<ul style=\"list-style-type:circle; direction:rtl\">\n",
    "    <li>روش تجمعی (aggregate)</li>\n",
    "    <li>روش حسابداری (banking)</li>\n",
    "    <li>روش پتانسیل (potential)</li>\n",
    "</ul>"
   ]
  },
  {
   "cell_type": "markdown",
   "id": "cee525d0",
   "metadata": {},
   "source": [
    "<h2 style=\"color:orange;font-size:2rem; direction:rtl;text-align:center\"> aggregate method </h2>"
   ]
  },
  {
   "cell_type": "markdown",
   "id": "8a8159dc",
   "metadata": {},
   "source": [
    "<p style= \"text-align:justify right;direction:rtl\">   در این تحلیل به ازای هر مقداردر یک توالی n  تایی از عملیات ها بدترین حالت ممکن که دارای بیشترین زمان برای اجرا هست را Tn می نامیم </p> \n"
   ]
  },
  {
   "cell_type": "markdown",
   "id": "51dfb93b",
   "metadata": {},
   "source": [
    "\n",
    "<p style=\"  text-align:justify right;direction:rtl\">اکنون که بیشترین زمان را در اورده ایم  پس میتوان هزینه ی سرشکن  را نیز بدست اورد که این مقدار برای همه عملیات ها یکسان  می باشد </p>\n",
    "<p style=\"color:#9B870C;  text-align:center;direction:rtl\"> amortized cost =  𝑇(𝑛)/𝑛</p>\n"
   ]
  },
  {
   "cell_type": "markdown",
   "id": "f5a7f162",
   "metadata": {},
   "source": [
    "<h2 style=\"color:orange;font-size:2rem; direction:rtl ;text-align:center\"> aggregate method </h2>"
   ]
  },
  {
   "cell_type": "markdown",
   "id": "e5c8663b",
   "metadata": {},
   "source": [
    "<h2 style=\"color:cyan;font-size:1.5rem; direction:rtl;text-align:center\"> aggregate in stack </h2>"
   ]
  },
  {
   "cell_type": "markdown",
   "id": "70e6a792",
   "metadata": {},
   "source": [
    "<p style=\"  text-align:justify right;direction:rtl\">زمان عملگرد های استک به صورت زیر است</p>"
   ]
  },
  {
   "cell_type": "markdown",
   "id": "bceb858e",
   "metadata": {},
   "source": [
    "$$\n",
    "push = 1 \\\\\n",
    "pop = 1 \\\\\n",
    "multipop = min(s,k)\n",
    "$$"
   ]
  },
  {
   "cell_type": "markdown",
   "id": "d69beabb",
   "metadata": {},
   "source": [
    "<img src= \"./img/AgregateStack.jpg\">"
   ]
  },
  {
   "cell_type": "markdown",
   "id": "545a64d9",
   "metadata": {},
   "source": [
    "Multipop(s , k)\n",
    "While not STACK-EMPTY(s) and k>0\n",
    "    Pop(s)\n",
    "    k=k-1\n",
    "    <div style=\"background-color:rgba(0, 0, 0, 0.0470588); padding:10px 0;font-family:monospace;\">\n",
    " Multipop(s,k)<br>\n",
    "&nbsp;&nbsp;&nbsp;&nbsp;While not <b>STACK-EMPTY(s)</b>and <b>k > 0</b> <br>\n",
    "&nbsp;&nbsp;&nbsp;&nbsp;&nbsp;&nbsp;&nbsp;&nbsp; <b>then</b> Pop(s) <br>\n",
    "&nbsp;&nbsp;&nbsp;&nbsp;&nbsp;&nbsp;&nbsp;&nbsp;&nbsp;&nbsp;&nbsp;&nbsp; k = k-1 <br>\n",
    "\n",
    "</div>\n",
    "\n"
   ]
  },
  {
   "cell_type": "markdown",
   "id": "0cdfd7f0",
   "metadata": {},
   "source": [
    "<ul style=\"list-style-type:circle; direction:rtl\">\n",
    "    <li style= \"text-align:justify right;direction:rtl\">بدترین حالت یک عملیات multipop است که هزینه آن O(n) است بنابر این هزینه توالی n تایی آن 𝑂(𝑛^2 ) است\n",
    " </li>\n",
    "    <li style= \"text-align:justify right;direction:rtl\">اگر استک خالی باشد هزینه های  multi pop و pop و push برابر با O(n) است </li>\n",
    "    <li style= \"text-align:justify right;direction:rtl\"> حد اثر تعداد pop برابر با push است </li>\n",
    "    <li style= \"text-align:justify right;direction:rtl\"> میانگین هزینه ی هر عملیات برابر با O(1) است </li>\n",
    "    <li style= \"text-align:justify right;direction:rtl\">با انالیز aggregate  میتوان به حد بالای upper bound برسیم  </li>\n",
    "</ul>"
   ]
  },
  {
   "cell_type": "markdown",
   "id": "536239d4",
   "metadata": {},
   "source": [
    "$$\n",
    "\\frac{O(n)}{n} = O(1)\n",
    "$$"
   ]
  },
  {
   "cell_type": "markdown",
   "id": "e1530d47",
   "metadata": {},
   "source": [
    "<h2 style=\"color:cyan;font-size:1.5rem; direction:rtl;text-align:center\"> aggregate in binary counter </h2>"
   ]
  },
  {
   "cell_type": "markdown",
   "id": "099f4caa",
   "metadata": {},
   "source": [
    "<p style=\"  text-align:justify right;direction:rtl\"> هزینه اين تابع به اندازه برابر با تعداد بیت های تغییر یافته است\n",
    "</p>\n",
    "<p style=\"  text-align:justify right;direction:rtl\"> در یک شمارشگر k بیتی بدترین حالت 𝜃(𝑘) است بنابر این زمان مورد نیاز برای n بار افزایش برابر با O(kn) است\n",
    "</p>\n"
   ]
  },
  {
   "cell_type": "code",
   "execution_count": 4,
   "id": "c39249c1",
   "metadata": {},
   "outputs": [
    {
     "data": {
      "text/html": [
       "<div>\n",
       "<style scoped>\n",
       "    .dataframe tbody tr th:only-of-type {\n",
       "        vertical-align: middle;\n",
       "    }\n",
       "\n",
       "    .dataframe tbody tr th {\n",
       "        vertical-align: top;\n",
       "    }\n",
       "\n",
       "    .dataframe thead th {\n",
       "        text-align: right;\n",
       "    }\n",
       "</style>\n",
       "<table border=\"1\" class=\"dataframe\">\n",
       "  <thead>\n",
       "    <tr style=\"text-align: right;\">\n",
       "      <th></th>\n",
       "      <th>A[7]</th>\n",
       "      <th>A[6]</th>\n",
       "      <th>A[5]</th>\n",
       "      <th>A[4]</th>\n",
       "      <th>A[3]</th>\n",
       "      <th>A[2]</th>\n",
       "      <th>A[1]</th>\n",
       "      <th>A[0]</th>\n",
       "    </tr>\n",
       "  </thead>\n",
       "  <tbody>\n",
       "    <tr>\n",
       "      <th>0</th>\n",
       "      <td>0</td>\n",
       "      <td>0</td>\n",
       "      <td>0</td>\n",
       "      <td>0</td>\n",
       "      <td>0</td>\n",
       "      <td>0</td>\n",
       "      <td>0</td>\n",
       "      <td>0</td>\n",
       "    </tr>\n",
       "    <tr>\n",
       "      <th>1</th>\n",
       "      <td>0</td>\n",
       "      <td>0</td>\n",
       "      <td>0</td>\n",
       "      <td>0</td>\n",
       "      <td>0</td>\n",
       "      <td>0</td>\n",
       "      <td>0</td>\n",
       "      <td>1</td>\n",
       "    </tr>\n",
       "    <tr>\n",
       "      <th>2</th>\n",
       "      <td>0</td>\n",
       "      <td>0</td>\n",
       "      <td>0</td>\n",
       "      <td>0</td>\n",
       "      <td>0</td>\n",
       "      <td>0</td>\n",
       "      <td>1</td>\n",
       "      <td>0</td>\n",
       "    </tr>\n",
       "    <tr>\n",
       "      <th>3</th>\n",
       "      <td>0</td>\n",
       "      <td>0</td>\n",
       "      <td>0</td>\n",
       "      <td>0</td>\n",
       "      <td>0</td>\n",
       "      <td>0</td>\n",
       "      <td>1</td>\n",
       "      <td>1</td>\n",
       "    </tr>\n",
       "    <tr>\n",
       "      <th>4</th>\n",
       "      <td>0</td>\n",
       "      <td>0</td>\n",
       "      <td>0</td>\n",
       "      <td>0</td>\n",
       "      <td>0</td>\n",
       "      <td>1</td>\n",
       "      <td>0</td>\n",
       "      <td>0</td>\n",
       "    </tr>\n",
       "    <tr>\n",
       "      <th>5</th>\n",
       "      <td>0</td>\n",
       "      <td>0</td>\n",
       "      <td>0</td>\n",
       "      <td>0</td>\n",
       "      <td>0</td>\n",
       "      <td>1</td>\n",
       "      <td>0</td>\n",
       "      <td>1</td>\n",
       "    </tr>\n",
       "    <tr>\n",
       "      <th>6</th>\n",
       "      <td>0</td>\n",
       "      <td>0</td>\n",
       "      <td>0</td>\n",
       "      <td>0</td>\n",
       "      <td>0</td>\n",
       "      <td>1</td>\n",
       "      <td>1</td>\n",
       "      <td>0</td>\n",
       "    </tr>\n",
       "    <tr>\n",
       "      <th>7</th>\n",
       "      <td>0</td>\n",
       "      <td>0</td>\n",
       "      <td>0</td>\n",
       "      <td>0</td>\n",
       "      <td>0</td>\n",
       "      <td>1</td>\n",
       "      <td>1</td>\n",
       "      <td>1</td>\n",
       "    </tr>\n",
       "    <tr>\n",
       "      <th>8</th>\n",
       "      <td>0</td>\n",
       "      <td>0</td>\n",
       "      <td>0</td>\n",
       "      <td>0</td>\n",
       "      <td>1</td>\n",
       "      <td>0</td>\n",
       "      <td>0</td>\n",
       "      <td>0</td>\n",
       "    </tr>\n",
       "    <tr>\n",
       "      <th>9</th>\n",
       "      <td>0</td>\n",
       "      <td>0</td>\n",
       "      <td>0</td>\n",
       "      <td>0</td>\n",
       "      <td>1</td>\n",
       "      <td>0</td>\n",
       "      <td>0</td>\n",
       "      <td>1</td>\n",
       "    </tr>\n",
       "    <tr>\n",
       "      <th>10</th>\n",
       "      <td>0</td>\n",
       "      <td>0</td>\n",
       "      <td>0</td>\n",
       "      <td>0</td>\n",
       "      <td>1</td>\n",
       "      <td>0</td>\n",
       "      <td>1</td>\n",
       "      <td>0</td>\n",
       "    </tr>\n",
       "    <tr>\n",
       "      <th>11</th>\n",
       "      <td>0</td>\n",
       "      <td>0</td>\n",
       "      <td>0</td>\n",
       "      <td>0</td>\n",
       "      <td>1</td>\n",
       "      <td>0</td>\n",
       "      <td>1</td>\n",
       "      <td>1</td>\n",
       "    </tr>\n",
       "    <tr>\n",
       "      <th>12</th>\n",
       "      <td>0</td>\n",
       "      <td>0</td>\n",
       "      <td>0</td>\n",
       "      <td>0</td>\n",
       "      <td>1</td>\n",
       "      <td>1</td>\n",
       "      <td>0</td>\n",
       "      <td>0</td>\n",
       "    </tr>\n",
       "    <tr>\n",
       "      <th>13</th>\n",
       "      <td>0</td>\n",
       "      <td>0</td>\n",
       "      <td>0</td>\n",
       "      <td>0</td>\n",
       "      <td>1</td>\n",
       "      <td>1</td>\n",
       "      <td>0</td>\n",
       "      <td>1</td>\n",
       "    </tr>\n",
       "    <tr>\n",
       "      <th>14</th>\n",
       "      <td>0</td>\n",
       "      <td>0</td>\n",
       "      <td>0</td>\n",
       "      <td>0</td>\n",
       "      <td>1</td>\n",
       "      <td>1</td>\n",
       "      <td>1</td>\n",
       "      <td>0</td>\n",
       "    </tr>\n",
       "    <tr>\n",
       "      <th>15</th>\n",
       "      <td>0</td>\n",
       "      <td>0</td>\n",
       "      <td>0</td>\n",
       "      <td>0</td>\n",
       "      <td>1</td>\n",
       "      <td>1</td>\n",
       "      <td>1</td>\n",
       "      <td>1</td>\n",
       "    </tr>\n",
       "    <tr>\n",
       "      <th>16</th>\n",
       "      <td>0</td>\n",
       "      <td>0</td>\n",
       "      <td>0</td>\n",
       "      <td>1</td>\n",
       "      <td>0</td>\n",
       "      <td>0</td>\n",
       "      <td>0</td>\n",
       "      <td>0</td>\n",
       "    </tr>\n",
       "  </tbody>\n",
       "</table>\n",
       "</div>"
      ],
      "text/plain": [
       "    A[7]  A[6]  A[5]  A[4]  A[3]  A[2]  A[1]  A[0]\n",
       "0      0     0     0     0     0     0     0     0\n",
       "1      0     0     0     0     0     0     0     1\n",
       "2      0     0     0     0     0     0     1     0\n",
       "3      0     0     0     0     0     0     1     1\n",
       "4      0     0     0     0     0     1     0     0\n",
       "5      0     0     0     0     0     1     0     1\n",
       "6      0     0     0     0     0     1     1     0\n",
       "7      0     0     0     0     0     1     1     1\n",
       "8      0     0     0     0     1     0     0     0\n",
       "9      0     0     0     0     1     0     0     1\n",
       "10     0     0     0     0     1     0     1     0\n",
       "11     0     0     0     0     1     0     1     1\n",
       "12     0     0     0     0     1     1     0     0\n",
       "13     0     0     0     0     1     1     0     1\n",
       "14     0     0     0     0     1     1     1     0\n",
       "15     0     0     0     0     1     1     1     1\n",
       "16     0     0     0     1     0     0     0     0"
      ]
     },
     "execution_count": 4,
     "metadata": {},
     "output_type": "execute_result"
    }
   ],
   "source": [
    "import pandas as pd\n",
    "data = [[0,0,0,0,0,0,0,0], [0,0,0,0,0,0,0,1],[0,0,0,0,0,0,1,0],[0,0,0,0,0,0,1,1],\n",
    "[0,0,0,0,0,1,0,0],[0,0,0,0,0,1,0,1],[0,0,0,0,0,1,1,0],[0,0,0,0,0,1,1,1],\n",
    "[0,0,0,0,1,0,0,0],[0,0,0,0,1,0,0,1],[0,0,0,0,1,0,1,0],[0,0,0,0,1,0,1,1],\n",
    "[0,0,0,0,1,1,0,0],[0,0,0,0,1,1,0,1],[0,0,0,0,1,1,1,0],[0,0,0,0,1,1,1,1],\n",
    "[0,0,0,1,0,0,0,0]]\n",
    "pd.DataFrame(data, columns=[\"A[7]\" , \"A[6]\",\"A[5]\",\"A[4]\",\"A[3]\",\"A[2]\",\"A[1]\",\"A[0]\"])"
   ]
  },
  {
   "cell_type": "markdown",
   "id": "a8e5adad",
   "metadata": {},
   "source": [
    "$$\n",
    "\\sum_{i=1}^{k-1}\\lfloor\\frac{n}{2^i} \\rfloor<\\sum_{i=1}^{k-1}\\frac{n}{2^i}=2n\n",
    "$$"
   ]
  },
  {
   "cell_type": "markdown",
   "id": "1e231166",
   "metadata": {},
   "source": [
    "<h2 style=\"color:orange;font-size:2rem; direction:rtl ;text-align:center\"> accounting method </h2>"
   ]
  },
  {
   "cell_type": "markdown",
   "id": "c177c3af",
   "metadata": {},
   "source": [
    " <p style=\"  text-align:justify right;direction:rtl\"> در این روش برخلاف روش تحلیل جمعی برای عملیات های مختلف زمان های اجرا مجزا در نظر میگیریم و آن را هزینه سرشکن(amortized cost)(C<sub><i>i</i></sub>) می نامیم.\n",
    "</p>"
   ]
  },
  {
   "cell_type": "markdown",
   "id": "b4482674",
   "metadata": {},
   "source": [
    "<h5 style=\"  text-align:justify right;direction:rtl\">اگر هزینه سرشکن از هزینه اصلی مورد نیاز (Actual cost)(C<sub><i>i</i></sub>)بیشتر شود مقدار اضافه را در متغیری با نام اعتبار(credit) ذخیره میکنیم (overcharge) \n",
    "</h5>"
   ]
  },
  {
   "cell_type": "markdown",
   "id": "e609ddc1",
   "metadata": {},
   "source": [
    "<h5 style=\"  text-align:justify right;direction:rtl\"> هزینه ذخیره شده در متغییر اعتبار بعدا زمان مورد نیاز برای عملیات هایی که زمان اصلی اجرای آنها بیشتر از هزینه سرشکن آنهاست را جبران میکند (undercharge)\n",
    "</h5>"
   ]
  },
  {
   "attachments": {},
   "cell_type": "markdown",
   "id": "95b4f751",
   "metadata": {},
   "source": [
    "<p style=\"  text-align:justify right;direction:rtl\"> هزینه سرشکن باید با دقت انتخاب شود به طوری که مطمئن باشیم </p>"
   ]
  },
  {
   "cell_type": "markdown",
   "id": "2c356a6c",
   "metadata": {},
   "source": [
    "<p style=\" text-align:justify right;direction:rtl\"> مجموع هزینه های حقیقی =< مجموع هزینه های سرشکن  \n",
    "</p>"
   ]
  },
  {
   "cell_type": "markdown",
   "id": "59b45cf5",
   "metadata": {},
   "source": [
    "$$\n",
    " \\sum_{i=1}^{n}\\widehat{c_i}\\geq \\sum_{i=1}^{n}c_i\n",
    "$$"
   ]
  },
  {
   "cell_type": "markdown",
   "id": "9b829a57",
   "metadata": {},
   "source": [
    "<p style=\"  text-align:justify right;direction:rtl\">بنابراین اعتبار دخیره شده همواره باید: \n",
    "</p>"
   ]
  },
  {
   "cell_type": "markdown",
   "id": "0aaad637",
   "metadata": {},
   "source": [
    "$$\n",
    " \\color{red}\\sum_{i=1}^{n}\\widehat{c_i}- \\sum_{i=1}^{n}c_i\\color{normal}\\geq 0\n",
    "$$"
   ]
  },
  {
   "cell_type": "markdown",
   "id": "538346b2",
   "metadata": {},
   "source": [
    "<p style= \"text-align:justify; direction:rtl\">که به قسمت قرمز credit میگوییم</p>"
   ]
  },
  {
   "cell_type": "markdown",
   "id": "5c4e41f1",
   "metadata": {},
   "source": [
    "<h2 style=\"color:cyan;font-size:1.5rem; direction:rtl;text-align:center\"> accounting  in stack </h2>"
   ]
  },
  {
   "cell_type": "markdown",
   "id": "27d66a85",
   "metadata": {},
   "source": [
    "<p style=\"  text-align:justify right;direction:rtl\">زمان عملگرد های استک به صورت زیر است</p>\n"
   ]
  },
  {
   "cell_type": "markdown",
   "id": "2e2e2696",
   "metadata": {},
   "source": [
    "$$\n",
    "push = 1 \\\\\n",
    "pop = 1 \\\\\n",
    "multipop = min(s,k)\n",
    "$$"
   ]
  },
  {
   "cell_type": "markdown",
   "id": "626910ce",
   "metadata": {},
   "source": [
    "<img src= \"./img/AccountingStack.jpg\">"
   ]
  },
  {
   "cell_type": "markdown",
   "id": "1779e4a4",
   "metadata": {},
   "source": [
    "<p style=\"  text-align:justify right;direction:rtl\">   حال با به کار گیری روش حسابداری به صورت زیر خواهد شد </p>"
   ]
  },
  {
   "cell_type": "markdown",
   "id": "9fb2a373",
   "metadata": {},
   "source": [
    "$$\n",
    "push = 2 \\\\\n",
    "pop = 0 \\\\\n",
    "multipop = min(s,k)\n",
    "$$"
   ]
  },
  {
   "cell_type": "markdown",
   "id": "59b33bd8",
   "metadata": {},
   "source": [
    "<p style=\"  text-align:justify right;direction:rtl\"> بنابر این با شارژ کردن هر push به اندازه 2 واحد در هنگام pop نیاز به پرداخت هزینه نداریم \n",
    "</p>"
   ]
  },
  {
   "cell_type": "markdown",
   "id": "b4581161",
   "metadata": {},
   "source": [
    "<p style=\" ; text-align:center;direction:rtl\">Total Amortized cost : O(n)</p>"
   ]
  },
  {
   "cell_type": "markdown",
   "id": "4f217b69",
   "metadata": {},
   "source": [
    "<img src= \"./img/accountingStacko.jpg\">"
   ]
  },
  {
   "cell_type": "markdown",
   "id": "71b23352",
   "metadata": {},
   "source": [
    "<h2 style=\"color:cyan;font-size:1.5rem; direction:rtl;text-align:center\"> accounting in binary counter </h2>"
   ]
  },
  {
   "cell_type": "markdown",
   "id": "450d63f2",
   "metadata": {},
   "source": [
    "<p style=\"  text-align:justify right;direction:rtl\"> در این روش ما هزنیه ی reset  کردن را روی set   می گذاریم  تا هزینه ی  reset= 0 شود </p>"
   ]
  },
  {
   "cell_type": "markdown",
   "id": "4b8de6f3",
   "metadata": {},
   "source": [
    "$$\n",
    "set\\quad = \\quad 2 \\\\\n",
    "reset\\quad =\\quad 0 \\\\\n",
    "$$"
   ]
  },
  {
   "cell_type": "markdown",
   "id": "663cbbab",
   "metadata": {},
   "source": [
    "<p style=\" text-align:center;direction:rtl\">Total Amortized cost : O(n)</p>"
   ]
  },
  {
   "cell_type": "code",
   "execution_count": 5,
   "id": "5e96f354",
   "metadata": {},
   "outputs": [
    {
     "data": {
      "text/html": [
       "<div>\n",
       "<style scoped>\n",
       "    .dataframe tbody tr th:only-of-type {\n",
       "        vertical-align: middle;\n",
       "    }\n",
       "\n",
       "    .dataframe tbody tr th {\n",
       "        vertical-align: top;\n",
       "    }\n",
       "\n",
       "    .dataframe thead th {\n",
       "        text-align: right;\n",
       "    }\n",
       "</style>\n",
       "<table border=\"1\" class=\"dataframe\">\n",
       "  <thead>\n",
       "    <tr style=\"text-align: right;\">\n",
       "      <th></th>\n",
       "      <th>A[7]</th>\n",
       "      <th>A[6]</th>\n",
       "      <th>A[5]</th>\n",
       "      <th>A[4]</th>\n",
       "      <th>A[3]</th>\n",
       "      <th>A[2]</th>\n",
       "      <th>A[1]</th>\n",
       "      <th>A[0]</th>\n",
       "    </tr>\n",
       "  </thead>\n",
       "  <tbody>\n",
       "    <tr>\n",
       "      <th>0</th>\n",
       "      <td>0</td>\n",
       "      <td>0</td>\n",
       "      <td>0</td>\n",
       "      <td>0</td>\n",
       "      <td>0</td>\n",
       "      <td>0</td>\n",
       "      <td>0</td>\n",
       "      <td>0</td>\n",
       "    </tr>\n",
       "    <tr>\n",
       "      <th>1</th>\n",
       "      <td>0</td>\n",
       "      <td>0</td>\n",
       "      <td>0</td>\n",
       "      <td>0</td>\n",
       "      <td>0</td>\n",
       "      <td>0</td>\n",
       "      <td>0</td>\n",
       "      <td>1</td>\n",
       "    </tr>\n",
       "    <tr>\n",
       "      <th>2</th>\n",
       "      <td>0</td>\n",
       "      <td>0</td>\n",
       "      <td>0</td>\n",
       "      <td>0</td>\n",
       "      <td>0</td>\n",
       "      <td>0</td>\n",
       "      <td>1</td>\n",
       "      <td>0</td>\n",
       "    </tr>\n",
       "    <tr>\n",
       "      <th>3</th>\n",
       "      <td>0</td>\n",
       "      <td>0</td>\n",
       "      <td>0</td>\n",
       "      <td>0</td>\n",
       "      <td>0</td>\n",
       "      <td>0</td>\n",
       "      <td>1</td>\n",
       "      <td>1</td>\n",
       "    </tr>\n",
       "    <tr>\n",
       "      <th>4</th>\n",
       "      <td>0</td>\n",
       "      <td>0</td>\n",
       "      <td>0</td>\n",
       "      <td>0</td>\n",
       "      <td>0</td>\n",
       "      <td>1</td>\n",
       "      <td>0</td>\n",
       "      <td>0</td>\n",
       "    </tr>\n",
       "    <tr>\n",
       "      <th>5</th>\n",
       "      <td>0</td>\n",
       "      <td>0</td>\n",
       "      <td>0</td>\n",
       "      <td>0</td>\n",
       "      <td>0</td>\n",
       "      <td>1</td>\n",
       "      <td>0</td>\n",
       "      <td>1</td>\n",
       "    </tr>\n",
       "    <tr>\n",
       "      <th>6</th>\n",
       "      <td>0</td>\n",
       "      <td>0</td>\n",
       "      <td>0</td>\n",
       "      <td>0</td>\n",
       "      <td>0</td>\n",
       "      <td>1</td>\n",
       "      <td>1</td>\n",
       "      <td>0</td>\n",
       "    </tr>\n",
       "    <tr>\n",
       "      <th>7</th>\n",
       "      <td>0</td>\n",
       "      <td>0</td>\n",
       "      <td>0</td>\n",
       "      <td>0</td>\n",
       "      <td>0</td>\n",
       "      <td>1</td>\n",
       "      <td>1</td>\n",
       "      <td>1</td>\n",
       "    </tr>\n",
       "    <tr>\n",
       "      <th>8</th>\n",
       "      <td>0</td>\n",
       "      <td>0</td>\n",
       "      <td>0</td>\n",
       "      <td>0</td>\n",
       "      <td>1</td>\n",
       "      <td>0</td>\n",
       "      <td>0</td>\n",
       "      <td>0</td>\n",
       "    </tr>\n",
       "    <tr>\n",
       "      <th>9</th>\n",
       "      <td>0</td>\n",
       "      <td>0</td>\n",
       "      <td>0</td>\n",
       "      <td>0</td>\n",
       "      <td>1</td>\n",
       "      <td>0</td>\n",
       "      <td>0</td>\n",
       "      <td>1</td>\n",
       "    </tr>\n",
       "    <tr>\n",
       "      <th>10</th>\n",
       "      <td>0</td>\n",
       "      <td>0</td>\n",
       "      <td>0</td>\n",
       "      <td>0</td>\n",
       "      <td>1</td>\n",
       "      <td>0</td>\n",
       "      <td>1</td>\n",
       "      <td>0</td>\n",
       "    </tr>\n",
       "    <tr>\n",
       "      <th>11</th>\n",
       "      <td>0</td>\n",
       "      <td>0</td>\n",
       "      <td>0</td>\n",
       "      <td>0</td>\n",
       "      <td>1</td>\n",
       "      <td>0</td>\n",
       "      <td>1</td>\n",
       "      <td>1</td>\n",
       "    </tr>\n",
       "    <tr>\n",
       "      <th>12</th>\n",
       "      <td>0</td>\n",
       "      <td>0</td>\n",
       "      <td>0</td>\n",
       "      <td>0</td>\n",
       "      <td>1</td>\n",
       "      <td>1</td>\n",
       "      <td>0</td>\n",
       "      <td>0</td>\n",
       "    </tr>\n",
       "    <tr>\n",
       "      <th>13</th>\n",
       "      <td>0</td>\n",
       "      <td>0</td>\n",
       "      <td>0</td>\n",
       "      <td>0</td>\n",
       "      <td>1</td>\n",
       "      <td>1</td>\n",
       "      <td>0</td>\n",
       "      <td>1</td>\n",
       "    </tr>\n",
       "    <tr>\n",
       "      <th>14</th>\n",
       "      <td>0</td>\n",
       "      <td>0</td>\n",
       "      <td>0</td>\n",
       "      <td>0</td>\n",
       "      <td>1</td>\n",
       "      <td>1</td>\n",
       "      <td>1</td>\n",
       "      <td>0</td>\n",
       "    </tr>\n",
       "    <tr>\n",
       "      <th>15</th>\n",
       "      <td>0</td>\n",
       "      <td>0</td>\n",
       "      <td>0</td>\n",
       "      <td>0</td>\n",
       "      <td>1</td>\n",
       "      <td>1</td>\n",
       "      <td>1</td>\n",
       "      <td>1</td>\n",
       "    </tr>\n",
       "    <tr>\n",
       "      <th>16</th>\n",
       "      <td>0</td>\n",
       "      <td>0</td>\n",
       "      <td>0</td>\n",
       "      <td>1</td>\n",
       "      <td>0</td>\n",
       "      <td>0</td>\n",
       "      <td>0</td>\n",
       "      <td>0</td>\n",
       "    </tr>\n",
       "  </tbody>\n",
       "</table>\n",
       "</div>"
      ],
      "text/plain": [
       "    A[7]  A[6]  A[5]  A[4]  A[3]  A[2]  A[1]  A[0]\n",
       "0      0     0     0     0     0     0     0     0\n",
       "1      0     0     0     0     0     0     0     1\n",
       "2      0     0     0     0     0     0     1     0\n",
       "3      0     0     0     0     0     0     1     1\n",
       "4      0     0     0     0     0     1     0     0\n",
       "5      0     0     0     0     0     1     0     1\n",
       "6      0     0     0     0     0     1     1     0\n",
       "7      0     0     0     0     0     1     1     1\n",
       "8      0     0     0     0     1     0     0     0\n",
       "9      0     0     0     0     1     0     0     1\n",
       "10     0     0     0     0     1     0     1     0\n",
       "11     0     0     0     0     1     0     1     1\n",
       "12     0     0     0     0     1     1     0     0\n",
       "13     0     0     0     0     1     1     0     1\n",
       "14     0     0     0     0     1     1     1     0\n",
       "15     0     0     0     0     1     1     1     1\n",
       "16     0     0     0     1     0     0     0     0"
      ]
     },
     "execution_count": 5,
     "metadata": {},
     "output_type": "execute_result"
    }
   ],
   "source": [
    "import pandas as pd\n",
    "data = [[0,0,0,0,0,0,0,0], [0,0,0,0,0,0,0,1],[0,0,0,0,0,0,1,0],[0,0,0,0,0,0,1,1],\n",
    "[0,0,0,0,0,1,0,0],[0,0,0,0,0,1,0,1],[0,0,0,0,0,1,1,0],[0,0,0,0,0,1,1,1],\n",
    "[0,0,0,0,1,0,0,0],[0,0,0,0,1,0,0,1],[0,0,0,0,1,0,1,0],[0,0,0,0,1,0,1,1],\n",
    "[0,0,0,0,1,1,0,0],[0,0,0,0,1,1,0,1],[0,0,0,0,1,1,1,0],[0,0,0,0,1,1,1,1],\n",
    "[0,0,0,1,0,0,0,0]]\n",
    "pd.DataFrame(data, columns=[\"A[7]\" , \"A[6]\",\"A[5]\",\"A[4]\",\"A[3]\",\"A[2]\",\"A[1]\",\"A[0]\"])"
   ]
  },
  {
   "cell_type": "markdown",
   "id": "589790f9",
   "metadata": {},
   "source": [
    "<h2 style= \"text-align:center;color:orange;direction:rtl;font-size:2rem;\">potential method</h2>"
   ]
  },
  {
   "cell_type": "markdown",
   "id": "ee5d05c0",
   "metadata": {},
   "source": [
    "<p style=\" text-align:justify right;direction:rtl\">این روش بسیار شبیه به روش حسابداری است با این تفاوت که هزینه از قبل پرداخت که قبلا در قالب یک شی ذخیره میشد به شکل انرژی پتانسیل کل ساختمان داده نشان داده میشود \n",
    "</p>"
   ]
  },
  {
   "cell_type": "markdown",
   "id": "f6fa9c47",
   "metadata": {},
   "source": [
    "<img src= \"./img/potentialnethod1.png\" >"
   ]
  },
  {
   "cell_type": "markdown",
   "id": "6f746d9a",
   "metadata": {},
   "source": [
    "<h2 style=\"color:cyan;font-size:1.5rem; direction:rtl;text-align:center\">تابع پتانسیل</h2>"
   ]
  },
  {
   "cell_type": "markdown",
   "id": "edd3d1f5",
   "metadata": {},
   "source": [
    "<p style=\" text-align:justify right;direction:rtl\">در لحظه اول ساختمان داده در حالت  𝐷_0قرار دارد\n",
    "</p>"
   ]
  },
  {
   "cell_type": "markdown",
   "id": "0164bb54",
   "metadata": {},
   "source": [
    "<p style=\" text-align:justify right;direction:rtl\">به ازای ⅈ=1,2,3,…,𝑛   𝑐_𝑖 را برابر هزینه واقعی عملیات i ام و 𝐷_𝑖 را وضعیت ساختمان داده بعد از انجام عملیات i ام تعریف میکنیم  \n",
    "</p>"
   ]
  },
  {
   "cell_type": "markdown",
   "id": "ae338c6a",
   "metadata": {},
   "source": [
    "<img src= \"./img/potentialmethod2.png\">"
   ]
  },
  {
   "cell_type": "markdown",
   "id": "38b067c0",
   "metadata": {},
   "source": [
    "<p style=\" text-align:justify right;direction:rtl\">تابع پتاسیل (𝜑)هر وضعیت ساختمان داده را به یک مقدار حقیقی𝜑(𝐷 <sub><i>i</i></sub>)  نسبت می دهد\n",
    "</p>"
   ]
  },
  {
   "cell_type": "markdown",
   "id": "7f086583",
   "metadata": {},
   "source": [
    "<h2 style=\"color:cyan;font-size:1.5rem; direction:rtl;text-align:center\">هزینه سرشکن</h2>"
   ]
  },
  {
   "cell_type": "markdown",
   "id": "64c5d0aa",
   "metadata": {},
   "source": [
    "$$\n",
    " \\widehat{C_i}=C_i+\\color{red}\\varphi (D_i)-\\varphi(D_{i-1}) \n",
    "$$"
   ]
  },
  {
   "cell_type": "markdown",
   "id": "857bf523",
   "metadata": {},
   "source": [
    "<p style=\" text-align:justify right;direction:rtl;size:11px\">که قسمت قرمز احتلاف پتانسیل را نشان می دهد\n",
    "</p>"
   ]
  },
  {
   "cell_type": "markdown",
   "id": "f2a5c972",
   "metadata": {},
   "source": [
    "<h5 style=\" text-align:justify right;direction:rtl;font-family:vazirmatn\">مجموع هزینه سرشکن:</h5>"
   ]
  },
  {
   "cell_type": "markdown",
   "id": "df192d9b",
   "metadata": {},
   "source": [
    "$$\n",
    "\\sum_{i=1}^{n}\\widehat{c_i}=\\sum_{i=1}^{n}(c_i+\\varphi(D_i)-\\varphi(D_{i-1})) \\\\ =\\sum_{i=1}^{n}(c_i)+\\varphi(D_n)-\\varphi(D_0)\n",
    "$$"
   ]
  },
  {
   "cell_type": "markdown",
   "id": "998dbfe4",
   "metadata": {},
   "source": [
    "<p style=\"color:cyan;font-size:1.5rem; direction:rtl;text-align:center\">شرط درستی تابع</p>"
   ]
  },
  {
   "cell_type": "markdown",
   "id": "4713c8b9",
   "metadata": {},
   "source": [
    "<p style=\" text-align:justify right;direction:rtl\">در تابع پتانسیل همواره باید داشته باشیم:\n",
    "</p>"
   ]
  },
  {
   "cell_type": "markdown",
   "id": "b603ce1e",
   "metadata": {},
   "source": [
    "\n",
    "$$\n",
    "\\varphi{(D_n)}\\geq\\varphi{(D_0)}\n",
    "$$\n",
    "\n"
   ]
  },
  {
   "cell_type": "markdown",
   "id": "48f2a076",
   "metadata": {},
   "source": [
    "<p style=\" text-align:justify right;direction:rtl\">ما اصولا 𝜑(𝐷_0 ) را برابر با 0  تعریف میکنیم : \n",
    "</p>"
   ]
  },
  {
   "cell_type": "markdown",
   "id": "65e9aebe",
   "metadata": {},
   "source": [
    "$$\n",
    "\\varphi{(D_n)}\\geq0\n",
    "$$\n"
   ]
  },
  {
   "cell_type": "markdown",
   "id": "1d4a6f3e",
   "metadata": {},
   "source": [
    "<p style=\" text-align:justify right;direction:rtl\">اگر اختلاف پتانسیل مثبت باشد overcharge رخ میدهد و اگر منفی بشود شاهد undercharge   خواهیم بود \n",
    "</p>\n",
    "<p style=\" text-align:justify right;direction:rtl\">نکته: هزینه سرشکن در این روش وابسته به تابع 𝜑(𝐷_𝑖 )   است\n",
    "\n",
    "</p>\n"
   ]
  },
  {
   "cell_type": "markdown",
   "id": "7304b62c",
   "metadata": {},
   "source": [
    "<p style=\" text-align:justify right;direction:rtl\"> در stack تابع پتانسیل را تعداد اشیا موجود در stack انتخاب میکنیم \n",
    "\n",
    "<p style=\" text-align:justify right;direction:rtl\">برای استک خالی داریم</p>\n",
    "</p>\n",
    "\n"
   ]
  },
  {
   "cell_type": "markdown",
   "id": "02417718",
   "metadata": {},
   "source": [
    "$$\n",
    "\\varphi{(D_0)} = 0\n",
    "$$"
   ]
  },
  {
   "cell_type": "markdown",
   "id": "9bc8ab66",
   "metadata": {},
   "source": [
    "<p style=\" text-align:justify right;direction:rtl\"> از انجایی که تعداد اشیا موجود در استک همواره مثبت است پس 𝜑(𝐷_𝑛 ) همواره مثبت است \n",
    "</p>"
   ]
  },
  {
   "cell_type": "markdown",
   "id": "9c43c8bb",
   "metadata": {},
   "source": [
    "$$\n",
    "push \\>\\to \\hat{C_i} = C_i + \\varphi{(D_i)}-\\varphi{(D_{i-1})} = 1\\>+1\\>=2 \\\\\n",
    "multipop \\>\\to \\varphi{(D_i)}\\>\\varphi{(D_{i-1})} = \\big(S-K\\big) -S = -K \\\\\n",
    "\\to \\hat{C_i}+\\varphi{(D_i)}-\\varphi{(D_{i-1})}=K-K = 0\n",
    "$$"
   ]
  },
  {
   "cell_type": "markdown",
   "id": "da09b858",
   "metadata": {},
   "source": [
    "<p style=\" text-align:justify right;direction:rtl\">برایpop هم همینچگونه خواهد"
   ]
  },
  {
   "cell_type": "markdown",
   "id": "a759624e",
   "metadata": {},
   "source": [
    "\n",
    "<p style=\" text-align:justify right;direction:rtl\">بنابر این داریم:\n",
    "\n",
    "</p>\n",
    "<p style=\" text-align:center;direction:rtl\">Total Amortized cost  :  𝑂(𝑛)  \n",
    "</p>\n",
    "\n"
   ]
  },
  {
   "cell_type": "markdown",
   "id": "e8f4f171",
   "metadata": {},
   "source": [
    "<p style=\" text-align:justify right;direction:rtl\">𝑏_𝑖   را که پتانسیل شمارشگر بعد از i امین عملیات است مساوی با تعداد 1 ها تعریف میکنیم \n",
    "\n",
    "</p>\n",
    "<p style=\" text-align:justify right;direction:rtl\">𝑡_𝑖 را تعداد بیت هایی که عملیات i ام ریست میشوند تعریف میکنیم\n",
    "\n",
    "</p>\n",
    "</p>\n",
    "<p style=\" text-align:justify right;direction:rtl\">بنابر این هزینه حقیقی بدین شکل است :\n",
    "\n",
    "</p>\n",
    "<p style=\" text-align:justify right;direction:rtl\">𝑡_𝑖+1 \n",
    "\n",
    "</p>"
   ]
  },
  {
   "cell_type": "code",
   "execution_count": 1,
   "id": "afaac7cc",
   "metadata": {},
   "outputs": [
    {
     "data": {
      "text/html": [
       "<div>\n",
       "<style scoped>\n",
       "    .dataframe tbody tr th:only-of-type {\n",
       "        vertical-align: middle;\n",
       "    }\n",
       "\n",
       "    .dataframe tbody tr th {\n",
       "        vertical-align: top;\n",
       "    }\n",
       "\n",
       "    .dataframe thead th {\n",
       "        text-align: right;\n",
       "    }\n",
       "</style>\n",
       "<table border=\"1\" class=\"dataframe\">\n",
       "  <thead>\n",
       "    <tr style=\"text-align: right;\">\n",
       "      <th></th>\n",
       "      <th>A[7]</th>\n",
       "      <th>A[6]</th>\n",
       "      <th>A[5]</th>\n",
       "      <th>A[4]</th>\n",
       "      <th>A[3]</th>\n",
       "      <th>A[2]</th>\n",
       "      <th>A[1]</th>\n",
       "      <th>A[0]</th>\n",
       "    </tr>\n",
       "  </thead>\n",
       "  <tbody>\n",
       "    <tr>\n",
       "      <th>0</th>\n",
       "      <td>0</td>\n",
       "      <td>0</td>\n",
       "      <td>0</td>\n",
       "      <td>0</td>\n",
       "      <td>0</td>\n",
       "      <td>0</td>\n",
       "      <td>0</td>\n",
       "      <td>0</td>\n",
       "    </tr>\n",
       "    <tr>\n",
       "      <th>1</th>\n",
       "      <td>0</td>\n",
       "      <td>0</td>\n",
       "      <td>0</td>\n",
       "      <td>0</td>\n",
       "      <td>0</td>\n",
       "      <td>0</td>\n",
       "      <td>0</td>\n",
       "      <td>1</td>\n",
       "    </tr>\n",
       "    <tr>\n",
       "      <th>2</th>\n",
       "      <td>0</td>\n",
       "      <td>0</td>\n",
       "      <td>0</td>\n",
       "      <td>0</td>\n",
       "      <td>0</td>\n",
       "      <td>0</td>\n",
       "      <td>1</td>\n",
       "      <td>0</td>\n",
       "    </tr>\n",
       "    <tr>\n",
       "      <th>3</th>\n",
       "      <td>0</td>\n",
       "      <td>0</td>\n",
       "      <td>0</td>\n",
       "      <td>0</td>\n",
       "      <td>0</td>\n",
       "      <td>0</td>\n",
       "      <td>1</td>\n",
       "      <td>1</td>\n",
       "    </tr>\n",
       "    <tr>\n",
       "      <th>4</th>\n",
       "      <td>0</td>\n",
       "      <td>0</td>\n",
       "      <td>0</td>\n",
       "      <td>0</td>\n",
       "      <td>0</td>\n",
       "      <td>1</td>\n",
       "      <td>0</td>\n",
       "      <td>0</td>\n",
       "    </tr>\n",
       "    <tr>\n",
       "      <th>5</th>\n",
       "      <td>0</td>\n",
       "      <td>0</td>\n",
       "      <td>0</td>\n",
       "      <td>0</td>\n",
       "      <td>0</td>\n",
       "      <td>1</td>\n",
       "      <td>0</td>\n",
       "      <td>1</td>\n",
       "    </tr>\n",
       "    <tr>\n",
       "      <th>6</th>\n",
       "      <td>0</td>\n",
       "      <td>0</td>\n",
       "      <td>0</td>\n",
       "      <td>0</td>\n",
       "      <td>0</td>\n",
       "      <td>1</td>\n",
       "      <td>1</td>\n",
       "      <td>0</td>\n",
       "    </tr>\n",
       "    <tr>\n",
       "      <th>7</th>\n",
       "      <td>0</td>\n",
       "      <td>0</td>\n",
       "      <td>0</td>\n",
       "      <td>0</td>\n",
       "      <td>0</td>\n",
       "      <td>1</td>\n",
       "      <td>1</td>\n",
       "      <td>1</td>\n",
       "    </tr>\n",
       "    <tr>\n",
       "      <th>8</th>\n",
       "      <td>0</td>\n",
       "      <td>0</td>\n",
       "      <td>0</td>\n",
       "      <td>0</td>\n",
       "      <td>1</td>\n",
       "      <td>0</td>\n",
       "      <td>0</td>\n",
       "      <td>0</td>\n",
       "    </tr>\n",
       "    <tr>\n",
       "      <th>9</th>\n",
       "      <td>0</td>\n",
       "      <td>0</td>\n",
       "      <td>0</td>\n",
       "      <td>0</td>\n",
       "      <td>1</td>\n",
       "      <td>0</td>\n",
       "      <td>0</td>\n",
       "      <td>1</td>\n",
       "    </tr>\n",
       "    <tr>\n",
       "      <th>10</th>\n",
       "      <td>0</td>\n",
       "      <td>0</td>\n",
       "      <td>0</td>\n",
       "      <td>0</td>\n",
       "      <td>1</td>\n",
       "      <td>0</td>\n",
       "      <td>1</td>\n",
       "      <td>0</td>\n",
       "    </tr>\n",
       "    <tr>\n",
       "      <th>11</th>\n",
       "      <td>0</td>\n",
       "      <td>0</td>\n",
       "      <td>0</td>\n",
       "      <td>0</td>\n",
       "      <td>1</td>\n",
       "      <td>0</td>\n",
       "      <td>1</td>\n",
       "      <td>1</td>\n",
       "    </tr>\n",
       "    <tr>\n",
       "      <th>12</th>\n",
       "      <td>0</td>\n",
       "      <td>0</td>\n",
       "      <td>0</td>\n",
       "      <td>0</td>\n",
       "      <td>1</td>\n",
       "      <td>1</td>\n",
       "      <td>0</td>\n",
       "      <td>0</td>\n",
       "    </tr>\n",
       "    <tr>\n",
       "      <th>13</th>\n",
       "      <td>0</td>\n",
       "      <td>0</td>\n",
       "      <td>0</td>\n",
       "      <td>0</td>\n",
       "      <td>1</td>\n",
       "      <td>1</td>\n",
       "      <td>0</td>\n",
       "      <td>1</td>\n",
       "    </tr>\n",
       "    <tr>\n",
       "      <th>14</th>\n",
       "      <td>0</td>\n",
       "      <td>0</td>\n",
       "      <td>0</td>\n",
       "      <td>0</td>\n",
       "      <td>1</td>\n",
       "      <td>1</td>\n",
       "      <td>1</td>\n",
       "      <td>0</td>\n",
       "    </tr>\n",
       "    <tr>\n",
       "      <th>15</th>\n",
       "      <td>0</td>\n",
       "      <td>0</td>\n",
       "      <td>0</td>\n",
       "      <td>0</td>\n",
       "      <td>1</td>\n",
       "      <td>1</td>\n",
       "      <td>1</td>\n",
       "      <td>1</td>\n",
       "    </tr>\n",
       "    <tr>\n",
       "      <th>16</th>\n",
       "      <td>0</td>\n",
       "      <td>0</td>\n",
       "      <td>0</td>\n",
       "      <td>1</td>\n",
       "      <td>0</td>\n",
       "      <td>0</td>\n",
       "      <td>0</td>\n",
       "      <td>0</td>\n",
       "    </tr>\n",
       "  </tbody>\n",
       "</table>\n",
       "</div>"
      ],
      "text/plain": [
       "    A[7]  A[6]  A[5]  A[4]  A[3]  A[2]  A[1]  A[0]\n",
       "0      0     0     0     0     0     0     0     0\n",
       "1      0     0     0     0     0     0     0     1\n",
       "2      0     0     0     0     0     0     1     0\n",
       "3      0     0     0     0     0     0     1     1\n",
       "4      0     0     0     0     0     1     0     0\n",
       "5      0     0     0     0     0     1     0     1\n",
       "6      0     0     0     0     0     1     1     0\n",
       "7      0     0     0     0     0     1     1     1\n",
       "8      0     0     0     0     1     0     0     0\n",
       "9      0     0     0     0     1     0     0     1\n",
       "10     0     0     0     0     1     0     1     0\n",
       "11     0     0     0     0     1     0     1     1\n",
       "12     0     0     0     0     1     1     0     0\n",
       "13     0     0     0     0     1     1     0     1\n",
       "14     0     0     0     0     1     1     1     0\n",
       "15     0     0     0     0     1     1     1     1\n",
       "16     0     0     0     1     0     0     0     0"
      ]
     },
     "execution_count": 1,
     "metadata": {},
     "output_type": "execute_result"
    }
   ],
   "source": [
    "import pandas as pd\n",
    "data = [[0,0,0,0,0,0,0,0], [0,0,0,0,0,0,0,1],[0,0,0,0,0,0,1,0],[0,0,0,0,0,0,1,1],\n",
    "[0,0,0,0,0,1,0,0],[0,0,0,0,0,1,0,1],[0,0,0,0,0,1,1,0],[0,0,0,0,0,1,1,1],\n",
    "[0,0,0,0,1,0,0,0],[0,0,0,0,1,0,0,1],[0,0,0,0,1,0,1,0],[0,0,0,0,1,0,1,1],\n",
    "[0,0,0,0,1,1,0,0],[0,0,0,0,1,1,0,1],[0,0,0,0,1,1,1,0],[0,0,0,0,1,1,1,1],\n",
    "[0,0,0,1,0,0,0,0]]\n",
    "pd.DataFrame(data, columns=[\"A[7]\" , \"A[6]\",\"A[5]\",\"A[4]\",\"A[3]\",\"A[2]\",\"A[1]\",\"A[0]\"])"
   ]
  },
  {
   "cell_type": "markdown",
   "id": "bebd8ce8",
   "metadata": {},
   "source": [
    "<h2 style=\"color:cyan;font-size:1.5rem; direction:rtl;text-align:center\">بررسی binary counter increment  با Potential Method </h2>"
   ]
  },
  {
   "cell_type": "markdown",
   "id": "8af0b217",
   "metadata": {},
   "source": [
    "<p style=\" text-align:justify right;direction:rtl\">دو حالت داریم:</p>"
   ]
  },
  {
   "cell_type": "markdown",
   "id": "4ea575fe",
   "metadata": {},
   "source": [
    "$$\n",
    "1.\\> -t_i\\leftarrow b_{i-1}=t_i=k\\leftarrow b_i=0 \\\\2.\\>\\>\\> b_i=b_{i-1}-t_i+1\\leftarrow b_i>0 \\\\ \n",
    "\n",
    "$$"
   ]
  },
  {
   "cell_type": "markdown",
   "id": "6618a1b2",
   "metadata": {},
   "source": [
    "$$\n",
    "\\\\\n",
    "اختلاف\\> پتاسیل = \\varphi(D_i)-\\varphi D{i-1}=b_{i-1} -t_i+1-b_{i-1}=1-t_i \\\\ \\widehat{c_i}=c_i+\\varphi(D_i)-\\varphi(D{i-1})=t_i+1 +1-t_i=2\n",
    "$$"
   ]
  },
  {
   "cell_type": "markdown",
   "id": "6d2a57fd",
   "metadata": {},
   "source": [
    "\n",
    "<p style=\" text-align:justify right;direction:rtl\">اگر شمارشگر از 0 شروع کند \n",
    "</p>\n"
   ]
  },
  {
   "cell_type": "markdown",
   "id": "45e4b169",
   "metadata": {},
   "source": [
    "\n",
    "$$\n",
    "\\varphi{(D_0)}=0 \\to \\varphi{(D_n)}\\geq 0\n",
    "$$"
   ]
  },
  {
   "cell_type": "markdown",
   "id": "275dea54",
   "metadata": {},
   "source": [
    " <p style=\" text-align:justify right;direction:rtl\">بنابراین تابع پتاسیل ما قابل قبول است \n",
    "</p>"
   ]
  },
  {
   "cell_type": "markdown",
   "id": "4f03522e",
   "metadata": {},
   "source": [
    "<p style=\" text-align:justify right;direction:rtl\">در نتیجه داریم:\n",
    "هرینه تابع سر شکن ما :O(n)\n",
    "\n",
    "</p>"
   ]
  },
  {
   "cell_type": "markdown",
   "id": "f6fc177f",
   "metadata": {},
   "source": [
    "<h2 style=\"color:red;font-size:2rem; direction:rtl;text-align:center \"> Dynamic Table(جدول پویا) </h2>"
   ]
  },
  {
   "cell_type": "markdown",
   "id": "7ce7f630",
   "metadata": {},
   "source": [
    "<p style=\" text-align:justify right;direction:rtl\">برای جدول دو قابلیت insert و delete در نظر میگیریم\n",
    "</p>\n",
    "<p style=\" text-align:justify right;direction:rtl\">با بررسی جدول پویا با تحلیل سرشکن به این نتیجه میرسیم که هزینه هر insert یا delete برابر با O(1) است هرچند هزینه اصلی عملیات هنگام افزایش یا کاهش حجم خیلی بیشتر باشد\n",
    "</p>\n",
    "<p style=\" text-align:justify right;direction:rtl\">\n",
    "در بررسی جدول پویا نوع سازماندهی ساختمان داده جدول مانند stack ، heap ، Hashtabel و ... مهم نیست و تاثیری در کار ما نخواهد گذاشت \n",
    "</p>\n",
    "<p style=\" text-align:justify right;direction:rtl\">برای بررسی جدول های پویا از تابعی به نام load factor کمک میگیریم .\n",
    "</p>\n",
    "<p style=\" text-align:justify right;direction:rtl\">𝑙𝑜𝑎𝑑 𝑓𝑎𝑐𝑡𝑜𝑟=  𝛼(𝑇)=(𝑇.𝑛𝑢𝑚)/(𝑇.𝑠𝑖𝑧𝑒)\n",
    "</p>\n",
    "\n",
    "<p style=\" text-align:justify right;direction:rtl\">برای جدول با سایز  0 قرار داد میکنیم :     𝑙𝑜𝑎𝑑 𝑓𝑎𝑐𝑡𝑜𝑟=1\n",
    "  \n",
    "</p>"
   ]
  },
  {
   "cell_type": "markdown",
   "id": "2348f512",
   "metadata": {},
   "source": [
    "<h2 style=\"color:purple;font-size:1.5rem; direction:rtl;text-align:center\">شرایط جدول پویا</h2>"
   ]
  },
  {
   "cell_type": "markdown",
   "id": "23d13f42",
   "metadata": {},
   "source": [
    "<p style=\" text-align:justify right;direction:rtl\">محدود کردن مقدار 𝑙𝑜𝑎𝑑 𝑓𝑎𝑐𝑡𝑜𝑟 باعث میشود فضای خالی جدول از حدی تجاوز نکند \n",
    "هنگامی که 𝑙𝑜𝑎𝑑 𝑓𝑎𝑐𝑡𝑜𝑟=1 باشد بدین معنی که است جدول پر شده است\n",
    "هنگام پر شدن جدول معمولا سایز آن را دو برابر میکنیم  \n",
    "\n",
    "</p>"
   ]
  },
  {
   "cell_type": "markdown",
   "id": "8ea9ab26",
   "metadata": {},
   "source": [
    "<h2 style=\"color:purple;font-size:1.5rem; direction:rtl;text-align:center\">افزایش حجم جدول پویا</h2>"
   ]
  },
  {
   "cell_type": "markdown",
   "id": "71bb3dc1",
   "metadata": {},
   "source": [
    "<div style=\"background-color:rgba(0, 0, 0, 0.0470588); padding:10px 0;font-family:monospace;\">\n",
    " Table-Insert(T,x)<br>\n",
    "&nbsp;&nbsp;&nbsp;&nbsp; <b>if</b> size[T]=0 <br>\n",
    "&nbsp;&nbsp;&nbsp;&nbsp;&nbsp;&nbsp;&nbsp;&nbsp; <b>then</b> allocate table[T]with 1 slot <br>\n",
    "&nbsp;&nbsp;&nbsp;&nbsp;&nbsp;&nbsp;&nbsp;&nbsp;&nbsp;&nbsp;&nbsp;&nbsp;size[T]<-1 <br>\n",
    "&nbsp;&nbsp;&nbsp;&nbsp; <b>if</b> num[T] = size [T] <br>\n",
    "&nbsp;&nbsp;&nbsp;&nbsp;&nbsp;&nbsp;&nbsp;&nbsp; <b>then</b> allocate <i>new-table</i> with <i>2.size[T]</i>slots <br>\n",
    "&nbsp;&nbsp;&nbsp;&nbsp;&nbsp;&nbsp;&nbsp;&nbsp;&nbsp;&nbsp;&nbsp;&nbsp;insert all items in <i>table[T}</i>into <i>new-table</i><br>\n",
    "&nbsp;&nbsp;&nbsp;&nbsp;&nbsp;&nbsp;&nbsp;&nbsp;&nbsp;&nbsp;&nbsp;&nbsp;free<i>table[T]</i><br>\n",
    "&nbsp;&nbsp;&nbsp;&nbsp;&nbsp;&nbsp;&nbsp;&nbsp;&nbsp;&nbsp;&nbsp;&nbsp;<i>table[T]<-new-table</i><br>\n",
    "&nbsp;&nbsp;&nbsp;&nbsp;&nbsp;&nbsp;&nbsp;&nbsp;&nbsp;&nbsp;&nbsp;&nbsp;<i>size[T]<-2.size[T]</i><br>\n",
    "&nbsp;&nbsp;&nbsp;&nbsp; insert <i>x</i>into <i>table[T]</i> <br>\n",
    "&nbsp;&nbsp;&nbsp;&nbsp;  <i>num[T]<-num[T]+1</i>into <i>table[T]</i> <br>\n",
    "</div>\n"
   ]
  },
  {
   "cell_type": "markdown",
   "id": "39d9db1c",
   "metadata": {},
   "source": [
    "<h2 style=\"color:purple;font-size:1.5rem; direction:rtl;text-align:center\">بررسی افزایش حجم به روش تجمعی</h2>"
   ]
  },
  {
   "cell_type": "markdown",
   "id": "eec261f1",
   "metadata": {},
   "source": [
    "$$\n",
    "\\\\\\>\n",
    "table\\> has\\> room \\>\\>\\>\\quad \\>\\>\\>c_i =i\\\\\n",
    "\\>table\\>is\\>full\\>\\quad\\quad\\quad\\quad c_i =1\n",
    " \n",
    "$$"
   ]
  },
  {
   "cell_type": "markdown",
   "id": "7f78fef8",
   "metadata": {},
   "source": [
    "<p style=\" text-align:justify right;direction:rtl\">در تحلیل به صورت عادی میدانیم که بد ترین حالت n است بنابر این n عملیات پیاپی زمانی برابر با 𝑂(𝑛^2) دارد .باید توجه کنیم که ما معمولا به ندرت جدول را افزایش حجم میدهیم .\n",
    "</p>\n",
    "<p style=\" text-align:justify right;direction:rtl\">i اُمین عملیات هنگامی باعث افزایش حجم می شود که عملیات قبلی آن(i-1) توانی از 2 باشد بنابر این داریم :\n",
    "</p>"
   ]
  },
  {
   "cell_type": "markdown",
   "id": "77649f75",
   "metadata": {},
   "source": [
    "$$\n",
    "Dynamic\\>Tabel\n",
    " \\\\\\>\\{\n",
    "\\quad\\quad i-1\\>\\quad is   power of\\> 2 \\>\\>\\> \\>\\>\\>c_i =i\\\\\n",
    "\\>ow\\>\\>\\>\\quad\\quad\\quad\\quad\\quad c_i =1\n",
    " \\}\n",
    "$$"
   ]
  },
  {
   "cell_type": "markdown",
   "id": "31580a14",
   "metadata": {},
   "source": [
    "<p style=\" text-align:justify right;direction:rtl\">بنابر این هزینه مجموع اضافه کردن به جدول به شکل زیر است : \n",
    "</p>"
   ]
  },
  {
   "cell_type": "markdown",
   "id": "0b7e5f07",
   "metadata": {},
   "source": [
    "$$\n",
    "\\sum_{i=1}^{n}(c_i)\\leq n+\\sum_{j=0}^{\\left [ log_2 n \\right ]}(2^j)\\\\ \\leq n+2n\\\\\\leq 3\n",
    "$$"
   ]
  },
  {
   "cell_type": "markdown",
   "id": "8957d253",
   "metadata": {},
   "source": [
    "<i>total Amortized cost : 3n =O(n) -> Amortized cost :3 =O(1)</i>"
   ]
  },
  {
   "cell_type": "markdown",
   "id": "a935f1fa",
   "metadata": {},
   "source": [
    "<h2 style=\"color:purple;font-size:1.5rem; direction:rtl;text-align:center\">برسی افزایش حجم به روش حسابداری</h2>"
   ]
  },
  {
   "cell_type": "markdown",
   "id": "b8630405",
   "metadata": {},
   "source": [
    "$$\n",
    "c_i = 3\n",
    "\\\\\n",
    "اضافه\\> کردن\\> خودش \\>\\> 1 \\\\\n",
    "جابه\\>جایی\\>خودش\\>\\>\\>1 \\\\\n",
    "جابه\\>جایی\\>یک\\> آیتم\\>دیگر\\>\\>\\>1\\\\\n",
    "$$"
   ]
  },
  {
   "cell_type": "markdown",
   "id": "fde13320",
   "metadata": {},
   "source": [
    "<img src = \"./img/potentialmethod3.png\">"
   ]
  },
  {
   "cell_type": "markdown",
   "id": "050a7086",
   "metadata": {},
   "source": [
    "<h2 style=\"color:purple;font-size:1.5rem; direction:rtl;text-align:center\">بررسی افزایش حجم به روش پتاسیل</h2>"
   ]
  },
  {
   "cell_type": "markdown",
   "id": "85f88101",
   "metadata": {},
   "source": [
    "<p style=\" text-align:justify right;direction:rtl\">ابتدا باید تابع پتانسیل را تعریف کنیم ؛ این تابع باید به گونه ای باشد که در بلافاصله بعد از افزایش حجم برابر 0 و هنگامی که جدول پر شد برابر با اندازه جدول باشد \n",
    "</p>\n",
    "<p style=\" text-align:justify right;direction:rtl\">ما تابع روبرو را برای پتانسیل تعریف کردیم :\n",
    "</p>"
   ]
  },
  {
   "cell_type": "markdown",
   "id": "38db9fc9",
   "metadata": {},
   "source": [
    "\n",
    "$$\n",
    " \\varphi(T)=2\\times T.num-T.size\\\n",
    "$$"
   ]
  },
  {
   "cell_type": "markdown",
   "id": "ff6023de",
   "metadata": {},
   "source": [
    "\n",
    "<p style=\" text-align:justify right;direction:rtl\">از انجایی که بعد از هر افزایش حداقل نصف جدول پر است :\n",
    "</p>"
   ]
  },
  {
   "cell_type": "markdown",
   "id": "7d920fd1",
   "metadata": {},
   "source": [
    "\n",
    " $$\n",
    "  T.num\\geq \\frac{T.num}{2}\\to \\varphi(T)\\geq0\n",
    " $$"
   ]
  },
  {
   "cell_type": "markdown",
   "id": "9f9a4ac6",
   "metadata": {},
   "source": [
    "<p style=\" text-align:justify right;direction:rtl\">در ابتدای جدول داریم:</p>"
   ]
  },
  {
   "cell_type": "markdown",
   "id": "ca5ac7cb",
   "metadata": {},
   "source": [
    "$$\n",
    "num_0=0,\\>size_o=0,\\>\\varphi_0=0\n",
    "$$"
   ]
  },
  {
   "cell_type": "markdown",
   "id": "ce2ed76f",
   "metadata": {},
   "source": [
    "<p style=\" text-align:justify right;direction:rtl\">اگر عملیات i باعث افزایش خحم نشود</p>"
   ]
  },
  {
   "cell_type": "markdown",
   "id": "dae19c4a",
   "metadata": {},
   "source": [
    "$$\n",
    " size_t=size_{t-1}\n",
    "$$"
   ]
  },
  {
   "cell_type": "markdown",
   "id": "857402e6",
   "metadata": {},
   "source": [
    "<p style=\" text-align:justify right;direction:rtl\">آنگاه داریم</p>"
   ]
  },
  {
   "cell_type": "markdown",
   "id": "56d316b9",
   "metadata": {},
   "source": [
    "$$\n",
    "\\widehat{C_i}=C_i+\\varphi(D_i)-\\varphi(D{i-1})\\\\ =1+(2.num_i-size_i)-(2.num{i-1}-size{i-1})\\\\ =1+ (2.num_i-size_i)-(2.(num_i-1)-size_i)\\\\=3\n",
    "$$"
   ]
  },
  {
   "cell_type": "markdown",
   "id": "924915c7",
   "metadata": {},
   "source": [
    "<p style=\" text-align:justify right;direction:rtl\">اگر عملیاتi باعث افزایش حجم شود</p>"
   ]
  },
  {
   "cell_type": "markdown",
   "id": "4f6ae11e",
   "metadata": {},
   "source": [
    "$$\n",
    "size_t=2.size_{t-1}\n",
    "$$"
   ]
  },
  {
   "cell_type": "markdown",
   "id": "9ea62565",
   "metadata": {},
   "source": [
    "$$\n",
    "\\widehat{c_i}=c_i=\\varphi(D_i)-\\varphi(D{i-1})\\\\ =num_i +(2.num_i-\\color{red}size_i\\color{normal})-(2.num_{i-1}-size{i-1})\\\\ = num_i+(2.num_i-\\color{red}2.(num_i-1))\\color{normal}- \\big(2.(num_i-1)-(num_i-1)\\big)\\\\ =num_i+2-(num_i-1)\\\\=3\n",
    "$$"
   ]
  },
  {
   "cell_type": "markdown",
   "id": "5202357e",
   "metadata": {},
   "source": [
    "<p style=\" text-align:justify right;direction:rtl\">همانطور که میبینید، قبل از اینکه اندازه دو برابر بشود، تابع پتانسیل به اندازه تعداد می رسد. بنابراین میتواند هزینه های انتقال را پرداخت کند.\n",
    "</p>\n",
    "<p style=\" text-align:justify right;direction:rtl\"><b>بعد از افزایش حجم، دوباره به 0 بر میگردد و با اولین افزودن، 2 واحد به بالا میرود\n",
    "</b></p>"
   ]
  },
  {
   "cell_type": "markdown",
   "id": "9d2b32dc",
   "metadata": {},
   "source": [
    "\n",
    "$$\n",
    " \\varphi(T)=2\\times T.num-T.size\\\n",
    "$$"
   ]
  },
  {
   "cell_type": "markdown",
   "id": "e30a9e2f",
   "metadata": {},
   "source": [
    "<img src =\"./img/DynamicTable2.png\" style=\"text-align:center\">"
   ]
  },
  {
   "cell_type": "markdown",
   "id": "19574ed1",
   "metadata": {},
   "source": [
    "<h2 style=\"color:purple;font-size:1.5rem; direction:rtl;text-align:center\">افزایش یا کاهش حجم جدول پویا</h2>"
   ]
  },
  {
   "cell_type": "markdown",
   "id": "d8943886",
   "metadata": {},
   "source": [
    "<p style=\" text-align:justify right;direction:rtl\">حذف ایتم ها از جدول بی شباهت به اضافه کردن انها به جدول نیست در حذف کردن نیز اگر load factor خیلی کوچک شود باید سایز جدول را نیز کوچک کنیم \n",
    "</p>\n",
    "\n",
    "\n",
    "\n"
   ]
  },
  {
   "cell_type": "markdown",
   "id": "8cc636fa",
   "metadata": {},
   "source": [
    "$$\n",
    "\n",
    "\\alpha(T)= \\frac{T\\times num}{T\\times size}\n",
    "$$"
   ]
  },
  {
   "cell_type": "markdown",
   "id": "588eddab",
   "metadata": {},
   "source": [
    "<p style=\" text-align:justify right;direction:rtl\">در حین اضافه و کم کردن از جدول دو قانون زیر باید برقرار باشد \n",
    "</p>\n",
    "<p style=\" text-align:justify right;direction:rtl\">1-Load factor با یک مقدار مثبت محدود شود (load factor≥𝑘)\n",
    "</p>\n",
    "<p style=\" text-align:justify right;direction:rtl\">2-هزینه سرشکن با یک مقدار ثابت محدود شود (𝑎𝑚𝑜𝑟𝑡𝑖𝑧𝑒𝑑 𝑐𝑜𝑠𝑡≤𝑘)\n",
    "</p>\n",
    "<p style=\" text-align:justify right;direction:rtl\">در نگاه اول به نظر میرسد باید با حذف هم مانند افزودن رفتار کنیم بنابر این هنگامی که نصف جدول پر بود سایز جدول را نصف میکنیم اما این کار یک مشکل دارد به مجموعه عملیات های زیر هنگامی که یک جدول پر داریم نگاه کنید\n",
    "</p>\n",
    "<p style=\" text-align:center;direction:rtl\">insert,delete.delete,insert,insert,delete,delete,insert,insert</p>\n",
    "<p style=\" text-align:justify right;direction:rtl\">در این حالت هزینه سرشکن بسیار بالا میرود.چرا؟\n",
    "</p>"
   ]
  },
  {
   "cell_type": "markdown",
   "id": "9ee89e11",
   "metadata": {},
   "source": [
    "<p style=\" text-align:justify right;direction:rtl\">علت این مشکل این است که ما به اندازه کافی شیء اضافه یا کم نکردیم که هزینه افزایش یا کاهش حجم را جبران کند\n",
    "</p>\n",
    "<p style=\" text-align:justify right;direction:rtl\">برای رفع این مشکل کافیست اجازه دهیم load factor کمتر از ½ شود بنابر این مانند قبل، هنگام پر شدن جدول حجمش را دوبرابر میکنیم اما هنگامی آن را نصف میکنیم که کمتر از ¼ آن پر باشد\n",
    "</p>\n",
    "<p style=\" text-align:justify right;direction:rtl\">با انجام چنین کاری ما load factor = ½  را ایده آل در نظر گرفته ایم بنابر این پتانسیل در این وضعیت صفر خواهد بود حال اگر load factor  به 1 افزایش یابد یا به ¼ کاهش یابد تابع پتانسیل باید به اندازه T.num رشد کند \n",
    "</p>\n"
   ]
  },
  {
   "cell_type": "markdown",
   "id": "8ec64e75",
   "metadata": {},
   "source": [
    "<p style=\" text-align:justify right;direction:rtl\">این اسلاید 41 است</p>"
   ]
  },
  {
   "cell_type": "markdown",
   "id": "c5bfcf82",
   "metadata": {},
   "source": [
    "$$\n",
    " \\varphi(T)=\\left\\{2\\times T.num-T.size\\>\\>\\>\\>\\>\\>\\>\\>\\>\\>if\\>\\>\\>\\> \\alpha(T)\\geq\\frac{1}{2} \\right\\} \\\\ \\varphi(T)=\\left\\{\\frac{T.size}{2}-T.num\\>\\>\\>\\>\\>\\>\\>\\>\\>\\>if\\>\\>\\>\\> \\alpha(T)<\\frac{1}{2}\\right\\} \\\\\n",
    "$$"
   ]
  },
  {
   "cell_type": "markdown",
   "id": "58678656",
   "metadata": {},
   "source": [
    "<p style=\" text-align:justify right;direction:rtl\">حال اگر</p>"
   ]
  },
  {
   "cell_type": "markdown",
   "id": "0a3eda9c",
   "metadata": {},
   "source": [
    "$$\n",
    " \\varphi(T)\\geq 0 \n",
    "$$"
   ]
  },
  {
   "cell_type": "markdown",
   "id": "3fb749dd",
   "metadata": {},
   "source": [
    "<p style=\" text-align:justify right;direction:rtl\">آنگاه داریم</p>"
   ]
  },
  {
   "cell_type": "markdown",
   "id": "587c83f9",
   "metadata": {},
   "source": [
    "$$\n",
    "\\\\ load\\>factor=1\\to T.size=T.num,\\varphi(T)=T.num\\\\ load\\>factor=\\frac{1}{2}\\to\\varphi(T)=0\\\\ load\\>factor=\\frac{1}{4}\\to T.size\\times T.num,\\varphi(T)=T.num\n",
    "$$"
   ]
  },
  {
   "cell_type": "markdown",
   "id": "9a41dc60",
   "metadata": {},
   "source": [
    "<p style=\" text-align:justify right;direction:rtl\">دو حالت ممکن است پیش بیاید</p>"
   ]
  },
  {
   "cell_type": "markdown",
   "id": "db543cd1",
   "metadata": {},
   "source": [
    "$$\n",
    "1 . \\quad\n",
    "a_{i-1}>=1/2\n",
    "$$"
   ]
  },
  {
   "cell_type": "markdown",
   "id": "89117041",
   "metadata": {},
   "source": [
    "<p style=\" text-align:right;direction:rtl\">\n",
    "که در این صورت\n",
    "</p>"
   ]
  },
  {
   "cell_type": "markdown",
   "id": "b997d6b8",
   "metadata": {},
   "source": [
    "$$\n",
    "\\hat{C_i} = 3 \\\\\n",
    "\\quad \\quad\n",
    "$$"
   ]
  },
  {
   "cell_type": "markdown",
   "id": "1990cabe",
   "metadata": {},
   "source": [
    "\n",
    "<p style=\" text-align:right;direction:rtl\">\n",
    "اما اگر\n",
    "</p>\n",
    "\n"
   ]
  },
  {
   "cell_type": "markdown",
   "id": "d4f9b558",
   "metadata": {},
   "source": [
    "$$\n",
    "2.\\quad a_{i-1}<\\frac{1}{2} a_i<1/2\n",
    "$$"
   ]
  },
  {
   "cell_type": "markdown",
   "id": "8531849f",
   "metadata": {},
   "source": [
    "<p style=\" text-align:justify right;direction:rtl\">در نتیجه خواهیم داشت</p>"
   ]
  },
  {
   "cell_type": "markdown",
   "id": "4cf324c3",
   "metadata": {
    "vscode": {
     "languageId": "latex"
    }
   },
   "source": [
    "$$\n",
    "\n",
    "\n",
    "num_{i-1}=num_i-1\n",
    "\\\\\n",
    "\\hat{C_i} = c_i + \\Phi(D_i)-\\Phi(D_{i-1})\n",
    "\\\\\n",
    "\n",
    "\\quad \\quad = 1+\\bigg(\\frac{size_{i}}{2}-num_i\\bigg)-\\bigg(\\frac{size_{i-1}}{2}-num_{i-1}\\bigg)\n",
    "\\\\ \\quad \\quad =1 + \\bigg(\\frac{size_{i}}{2}-num_i\\bigg)-\\bigg(\\frac{size_{i}}{2}-(num_i-1)\\bigg)\n",
    "\\\\\n",
    "\\quad  \\quad =0\n",
    "\n",
    "$$"
   ]
  },
  {
   "cell_type": "markdown",
   "id": "57ff7ffd",
   "metadata": {},
   "source": [
    "<p style=\" text-align:justify right;direction:rtl\">و در حالت سوم</p>"
   ]
  },
  {
   "cell_type": "markdown",
   "id": "d83b4375",
   "metadata": {},
   "source": [
    "$$\n",
    "3.\\quad a_{i-1}<\\frac{1}{2} a_i\\geq{1}/2\n",
    "$$"
   ]
  },
  {
   "cell_type": "markdown",
   "id": "befdb0ad",
   "metadata": {},
   "source": [
    "$$\n",
    "size_{i-1}=size_i \\quad num_{i-1}=num_i-1\n",
    "\\hat{Ci}=c_i+\\Phi(D_i)-Phi(D_{i-1})\n",
    "\\\\\n",
    " \\quad = 1+ (2.num_i-size_i)-\\bigg()\n",
    "$$"
   ]
  },
  {
   "cell_type": "markdown",
   "id": "87c265a2",
   "metadata": {},
   "source": [
    "<p style=\" text-align:justify right;direction:rtl\">برای کاهش حجم 4 حالت را بررسی میکنیم.</p>"
   ]
  },
  {
   "cell_type": "markdown",
   "id": "238b83db",
   "metadata": {},
   "source": [
    "$$\n",
    "1-\\>\\> \\alpha_{i-1}<\\frac{1}{2}\\>\\&\\>not\\>contract\\\\ 2-\\>\\> \\alpha_{i-1}<\\frac{1}{2}\\>\\&\\>contract\\\\ \\\\ 3-\\>\\> \\alpha_{i-1}\\geq <\\frac{1}{2}\\>\\&\\>\\alpha_i\\geq \\frac{1}{2}\\\\ 4-\\>\\> \\alpha_{i-1}\\geq <\\frac{1}{2}\\>\\&\\>\\alpha_i< \\frac{1}{2}\n",
    "$$"
   ]
  },
  {
   "cell_type": "markdown",
   "id": "13386654",
   "metadata": {},
   "source": [
    "<p style=\" text-align:justify right;direction:rtl\">در حالت اول داریم:</p>"
   ]
  },
  {
   "cell_type": "markdown",
   "id": "81a75a4c",
   "metadata": {},
   "source": [
    "$$ 1)size_{i-1}=size_i,\\>num_{i-1}-1=num_i\\>\\>\\>\\>\\>\\alpha_{i-1}<\\frac{1}{2}\\>\\&\\>not\\>contract\\\\ \\widehat{c_i}=c_i+\\varphi(D_i)-\\varphi(D{i-1})\\\\ =1+\\Big(\\frac{size_i}{2}-num_i\\Big)-\\Big(\\frac{size_{i-1}}{2}-num_{i-1}\\Big)\\\\ =1+\\Big(\\frac{size_i}{2}-num_i\\Big)-\\Big(\\frac{size_{i-1}}{2}-(num_i+1)\\Big)\\\\ =2\n",
    "$$"
   ]
  },
  {
   "cell_type": "markdown",
   "id": "1d716011",
   "metadata": {},
   "source": [
    "<p style=\" text-align:justify right;direction:rtl\">که هزینه سرشکن برابر با 2 می شود.</p>"
   ]
  },
  {
   "cell_type": "markdown",
   "id": "28359a5f",
   "metadata": {},
   "source": [
    "<p style=\" text-align:justify right;direction:rtl\">در حالت دوم داریم:</p>"
   ]
  },
  {
   "cell_type": "markdown",
   "id": "2d313fdd",
   "metadata": {},
   "source": [
    "$$\n",
    " 2)size_i=\\frac{size_{i-1}}{2}=2.num{i-1}=2(num_i-1)\\>\\>\\>\\>\\alpha<\\frac{1}{2}\\>\\&\\>contract\\\\ c_i=num_i+1 \\\\ \\widehat{c_i}=c_i+\\varphi(D_i)-\\varphi(D{i-1})\\\\ =(num_i+1)+\\Big(\\frac{size_i}{2}-num_i\\Big)-\\Big(size_{i-1}\\Big)\\\\ =(num_i+1)+(num_i+1-num_i)-(2(num_i-1)-(num_i+1))\\\\ =1\n",
    "$$"
   ]
  },
  {
   "cell_type": "markdown",
   "id": "4aa0b074",
   "metadata": {},
   "source": [
    "<p style=\" text-align:justify right;direction:rtl\">هزینه سرشکن در اینحا برابر  با 1 است</p>"
   ]
  },
  {
   "cell_type": "markdown",
   "id": "8e96e61f",
   "metadata": {},
   "source": [
    "<p style=\" text-align:justify right;direction:rtl\">در حالت سوم خواهیم داشت</p>"
   ]
  },
  {
   "cell_type": "markdown",
   "id": "67aae2f3",
   "metadata": {},
   "source": [
    "$$\n",
    "3)size_{i-1}=size_i,\\>num_{i-1}=num_i+1\\>\\>\\>\\>\\>\\>\\> \\alpha_{i-1}\\geq \\frac{1}{2}\\>\\&\\>\\alpha_i\\geq \\frac{1}{2}\\\\ \\widehat{c_i}=c_i+\\varphi(D_i)-\\varphi(D_{i-1})\\\\ =1+(2.num_i-size_i) -(2.num_{u-1}-size_{i-1})\\\\ =1+(2.num_i-size_i)-(2.num_i+2-size_i)\\\\ =-2 \n",
    "$$"
   ]
  },
  {
   "cell_type": "markdown",
   "id": "558c70d7",
   "metadata": {},
   "source": [
    "<p style=\" text-align:justify right;direction:rtl\">این به این معناست که ما طلبکار شدیم و هزینه باید به ما برگردد</p>"
   ]
  },
  {
   "cell_type": "markdown",
   "id": "d6b94c97",
   "metadata": {},
   "source": [
    "$$\n",
    "\\\\ 4)size_{i-1}=suze_i,\\>num_{i-1}=num_i+1\\>\\>\\>\\>\\>\\>\\> \\alpha_{i-1}\\geq \\frac{1}{2}\\>\\&\\>\\alpha_i< \\frac{1}{2}\\\\ \\widehat{c_i}=c_i+\\varphi(D_i)-\\varphi(D_{i-1})\\\\ =1+\\Big(\\frac{size_i}{2}-num_i\\Big)-(2.num_{i-1}-size_{i-1})\\\\ =1+\\Big(\\frac{size_i}{2}-num_i\\Big)-(2.num_i+2-size_i)\\\\ =-1+\\frac{3}{2}(size_i-2.num_i)\\\\ \\leq -1+\\frac{3}{2}(size_i-suze_i+1)\\\\ \\leq 1\n",
    "$$"
   ]
  },
  {
   "cell_type": "markdown",
   "id": "4f589490",
   "metadata": {},
   "source": [
    "<p style=\" text-align:justify right;direction:rtl\">بنابر این هزینه سرشکن در delete برابر با 2 است.</p>\n",
    "<p style=\" text-align:justify right;direction:rtl\">بیشترین هزینه را گفتیم جون در این تحلیل بدترین حالت بررسی می شود</p>"
   ]
  },
  {
   "cell_type": "markdown",
   "id": "1a1a8c23",
   "metadata": {},
   "source": [
    "## Thank you\n",
    "### writers:\n",
    "#### *mohammadhassanBarati*\n",
    "#### *mohammadEbrahimRahimi*\n",
    "\n",
    "`` \n",
    "    ShahedUniversity\n",
    "\n",
    "        Datastructure 1401\n",
    "\n",
    "            Mr.Shafiee\n",
    "\n",
    "``\n"
   ]
  }
 ],
 "metadata": {
  "kernelspec": {
   "display_name": "Python 3.10.5 64-bit",
   "language": "python",
   "name": "python3"
  },
  "language_info": {
   "codemirror_mode": {
    "name": "ipython",
    "version": 3
   },
   "file_extension": ".py",
   "mimetype": "text/x-python",
   "name": "python",
   "nbconvert_exporter": "python",
   "pygments_lexer": "ipython3",
   "version": "3.10.5"
  },
  "vscode": {
   "interpreter": {
    "hash": "26de051ba29f2982a8de78e945f0abaf191376122a1563185a90213a26c5da77"
   }
  }
 },
 "nbformat": 4,
 "nbformat_minor": 5
}
